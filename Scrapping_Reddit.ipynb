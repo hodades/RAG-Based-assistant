{
  "nbformat": 4,
  "nbformat_minor": 0,
  "metadata": {
    "colab": {
      "provenance": [],
      "authorship_tag": "ABX9TyPTCkIe9Gf23TB7+/YmT3tq",
      "include_colab_link": true
    },
    "kernelspec": {
      "name": "python3",
      "display_name": "Python 3"
    },
    "language_info": {
      "name": "python"
    }
  },
  "cells": [
    {
      "cell_type": "markdown",
      "metadata": {
        "id": "view-in-github",
        "colab_type": "text"
      },
      "source": [
        "<a href=\"https://colab.research.google.com/github/hodades/RAG-Based-assistant/blob/main/Scrapping_Reddit.ipynb\" target=\"_parent\"><img src=\"https://colab.research.google.com/assets/colab-badge.svg\" alt=\"Open In Colab\"/></a>"
      ]
    },
    {
      "cell_type": "markdown",
      "source": [
        "# Scrapping Reddit\n",
        "créer un compte ici pour scrapper\n",
        "https://www.reddit.com/prefs/apps\n",
        "URI :\n",
        "Doc : https://praw.readthedocs.io/en/stable/index.html"
      ],
      "metadata": {
        "id": "Wn1nP0sOul1z"
      }
    },
    {
      "cell_type": "code",
      "execution_count": 1,
      "metadata": {
        "colab": {
          "base_uri": "https://localhost:8080/"
        },
        "id": "hTYE8f9UfUEC",
        "outputId": "a9e44306-6607-4aa2-9b3b-4335c6347073"
      },
      "outputs": [
        {
          "output_type": "stream",
          "name": "stdout",
          "text": [
            "Collecting praw\n",
            "  Downloading praw-7.7.1-py3-none-any.whl.metadata (9.8 kB)\n",
            "Collecting prawcore<3,>=2.1 (from praw)\n",
            "  Downloading prawcore-2.4.0-py3-none-any.whl.metadata (5.0 kB)\n",
            "Collecting update-checker>=0.18 (from praw)\n",
            "  Downloading update_checker-0.18.0-py3-none-any.whl.metadata (2.3 kB)\n",
            "Requirement already satisfied: websocket-client>=0.54.0 in /usr/local/lib/python3.10/dist-packages (from praw) (1.8.0)\n",
            "Requirement already satisfied: requests<3.0,>=2.6.0 in /usr/local/lib/python3.10/dist-packages (from prawcore<3,>=2.1->praw) (2.32.3)\n",
            "Requirement already satisfied: charset-normalizer<4,>=2 in /usr/local/lib/python3.10/dist-packages (from requests<3.0,>=2.6.0->prawcore<3,>=2.1->praw) (3.3.2)\n",
            "Requirement already satisfied: idna<4,>=2.5 in /usr/local/lib/python3.10/dist-packages (from requests<3.0,>=2.6.0->prawcore<3,>=2.1->praw) (3.10)\n",
            "Requirement already satisfied: urllib3<3,>=1.21.1 in /usr/local/lib/python3.10/dist-packages (from requests<3.0,>=2.6.0->prawcore<3,>=2.1->praw) (2.2.3)\n",
            "Requirement already satisfied: certifi>=2017.4.17 in /usr/local/lib/python3.10/dist-packages (from requests<3.0,>=2.6.0->prawcore<3,>=2.1->praw) (2024.8.30)\n",
            "Downloading praw-7.7.1-py3-none-any.whl (191 kB)\n",
            "\u001b[2K   \u001b[90m━━━━━━━━━━━━━━━━━━━━━━━━━━━━━━━━━━━━━━━━\u001b[0m \u001b[32m191.0/191.0 kB\u001b[0m \u001b[31m3.8 MB/s\u001b[0m eta \u001b[36m0:00:00\u001b[0m\n",
            "\u001b[?25hDownloading prawcore-2.4.0-py3-none-any.whl (17 kB)\n",
            "Downloading update_checker-0.18.0-py3-none-any.whl (7.0 kB)\n",
            "Installing collected packages: update-checker, prawcore, praw\n",
            "Successfully installed praw-7.7.1 prawcore-2.4.0 update-checker-0.18.0\n"
          ]
        }
      ],
      "source": [
        "!pip install praw\n"
      ]
    },
    {
      "cell_type": "code",
      "source": [
        "import praw"
      ],
      "metadata": {
        "id": "J23Vqyu7s281"
      },
      "execution_count": 2,
      "outputs": []
    },
    {
      "cell_type": "code",
      "source": [
        "import praw\n",
        "\n",
        "# Configurer l'API Reddit avec les informations fournies par Reddit Developer Portal\n",
        "reddit = praw.Reddit(\n",
        "    client_id='',  # Remplace par ton client ID\n",
        "    client_secret='',  # Le secret que tu as dans l'image\n",
        "    user_agent='',  # Le nom de ton application\n",
        "    redirect_uri='https://localhost:3000/'\n",
        ")\n",
        "\n",
        "# Exemple de scraping - récupérer les 5 meilleurs posts de python\n",
        "subreddit = reddit.subreddit('python')\n",
        "for post in subreddit.top(limit=5):\n",
        "    print(f\"Titre : {post.title}, Score : {post.score}\")"
      ],
      "metadata": {
        "colab": {
          "base_uri": "https://localhost:8080/"
        },
        "id": "Hu8ONQ0tvFw5",
        "outputId": "d4f0aef2-5634-498f-a21e-ba5f40cf1028"
      },
      "execution_count": 5,
      "outputs": [
        {
          "output_type": "stream",
          "name": "stderr",
          "text": [
            "WARNING:praw:It appears that you are using PRAW in an asynchronous environment.\n",
            "It is strongly recommended to use Async PRAW: https://asyncpraw.readthedocs.io.\n",
            "See https://praw.readthedocs.io/en/latest/getting_started/multiple_instances.html#discord-bots-and-asynchronous-environments for more info.\n",
            "\n"
          ]
        },
        {
          "output_type": "stream",
          "name": "stdout",
          "text": [
            "Titre : Lad wrote a Python script to download Alexa voice recordings, he didn't expect this email., Score : 12343\n",
            "Titre : This post has:, Score : 9235\n",
            "Titre : I redesign the Python logo to make it more modern, Score : 7859\n",
            "Titre : Automate the boring stuff with python - tinder, Score : 6721\n",
            "Titre : I'm excited to share my first published book, Introduction to Python Programming for Business and Social Science Applications -- specifically geared towards students not specifically in computer science, Score : 6505\n"
          ]
        }
      ]
    },
    {
      "cell_type": "code",
      "source": [
        "# Exemple de scraping - récupérer les 5 meilleurs posts de r/Beauty\n",
        "subreddit = reddit.subreddit('Beauty')\n",
        "for post in subreddit.top(limit=5):\n",
        "    print(f\"Titre : {post.title}, Score : {post.score}, Lien : {post.url}\")"
      ],
      "metadata": {
        "colab": {
          "base_uri": "https://localhost:8080/"
        },
        "id": "7tju0V8gDFAw",
        "outputId": "94f82dd1-c5fe-4b3b-97a6-8b4c4d9f597e"
      },
      "execution_count": 6,
      "outputs": [
        {
          "output_type": "stream",
          "name": "stderr",
          "text": [
            "WARNING:praw:It appears that you are using PRAW in an asynchronous environment.\n",
            "It is strongly recommended to use Async PRAW: https://asyncpraw.readthedocs.io.\n",
            "See https://praw.readthedocs.io/en/latest/getting_started/multiple_instances.html#discord-bots-and-asynchronous-environments for more info.\n",
            "\n"
          ]
        },
        {
          "output_type": "stream",
          "name": "stdout",
          "text": [
            "Titre : Icing my face daily has ruined my face. Warning to everyone else not to follow TikToks advice., Score : 6569, Lien : https://www.reddit.com/r/beauty/comments/18ffum5/icing_my_face_daily_has_ruined_my_face_warning_to/\n",
            "Titre : Pregnancy absolutely destroyed my tummy, This is 3 years after giving birth. Anything I can do to improve it 😭😭, Score : 5449, Lien : https://i.redd.it/0zdbr9xtjjld1.jpeg\n",
            "Titre : Is V-cut hair outdated?, Score : 4796, Lien : https://i.redd.it/28h8sfvbmaqc1.jpeg\n",
            "Titre : Don’t use native deodorant , Score : 4423, Lien : https://www.reddit.com/r/beauty/comments/1fuhune/dont_use_native_deodorant/\n",
            "Titre : Family member says eyebrow shape and thickness makes me look angry, recommends I thin them. Advice much appreciated :) , Score : 3529, Lien : https://i.redd.it/sjjzph0oitjc1.jpeg\n"
          ]
        }
      ]
    }
  ]
}