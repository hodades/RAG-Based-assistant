{
  "nbformat": 4,
  "nbformat_minor": 0,
  "metadata": {
    "colab": {
      "provenance": [],
      "authorship_tag": "ABX9TyNANG5RqBtBvofjAUgF2JSR",
      "include_colab_link": true
    },
    "kernelspec": {
      "name": "python3",
      "display_name": "Python 3"
    },
    "language_info": {
      "name": "python"
    }
  },
  "cells": [
    {
      "cell_type": "markdown",
      "metadata": {
        "id": "view-in-github",
        "colab_type": "text"
      },
      "source": [
        "<a href=\"https://colab.research.google.com/github/hodades/RAG-Based-assistant/blob/main/RAG.ipynb\" target=\"_parent\"><img src=\"https://colab.research.google.com/assets/colab-badge.svg\" alt=\"Open In Colab\"/></a>"
      ]
    },
    {
      "cell_type": "markdown",
      "source": [
        "# Scrapping Reddit\n",
        "https://www.reddit.com/prefs/apps\n",
        "URI :\n",
        "Doc : https://praw.readthedocs.io/en/stable/index.html"
      ],
      "metadata": {
        "id": "Wn1nP0sOul1z"
      }
    },
    {
      "cell_type": "code",
      "execution_count": 67,
      "metadata": {
        "colab": {
          "base_uri": "https://localhost:8080/"
        },
        "id": "hTYE8f9UfUEC",
        "outputId": "46ee36a3-6199-4c62-aa57-c805444ba8a3"
      },
      "outputs": [
        {
          "output_type": "stream",
          "name": "stdout",
          "text": [
            "Requirement already satisfied: praw in /usr/local/lib/python3.10/dist-packages (7.7.1)\n",
            "Requirement already satisfied: prawcore<3,>=2.1 in /usr/local/lib/python3.10/dist-packages (from praw) (2.4.0)\n",
            "Requirement already satisfied: update-checker>=0.18 in /usr/local/lib/python3.10/dist-packages (from praw) (0.18.0)\n",
            "Requirement already satisfied: websocket-client>=0.54.0 in /usr/local/lib/python3.10/dist-packages (from praw) (1.8.0)\n",
            "Requirement already satisfied: requests<3.0,>=2.6.0 in /usr/local/lib/python3.10/dist-packages (from prawcore<3,>=2.1->praw) (2.32.3)\n",
            "Requirement already satisfied: charset-normalizer<4,>=2 in /usr/local/lib/python3.10/dist-packages (from requests<3.0,>=2.6.0->prawcore<3,>=2.1->praw) (3.3.2)\n",
            "Requirement already satisfied: idna<4,>=2.5 in /usr/local/lib/python3.10/dist-packages (from requests<3.0,>=2.6.0->prawcore<3,>=2.1->praw) (3.10)\n",
            "Requirement already satisfied: urllib3<3,>=1.21.1 in /usr/local/lib/python3.10/dist-packages (from requests<3.0,>=2.6.0->prawcore<3,>=2.1->praw) (2.2.3)\n",
            "Requirement already satisfied: certifi>=2017.4.17 in /usr/local/lib/python3.10/dist-packages (from requests<3.0,>=2.6.0->prawcore<3,>=2.1->praw) (2024.8.30)\n"
          ]
        }
      ],
      "source": [
        "!pip install praw\n"
      ]
    },
    {
      "cell_type": "code",
      "source": [
        "import praw"
      ],
      "metadata": {
        "id": "J23Vqyu7s281"
      },
      "execution_count": 68,
      "outputs": []
    },
    {
      "cell_type": "code",
      "source": [
        "from datetime import datetime, timedelta\n"
      ],
      "metadata": {
        "id": "l975GyyJxDnH"
      },
      "execution_count": 69,
      "outputs": []
    },
    {
      "cell_type": "code",
      "source": [
        "\n",
        "# Configuration de PRAW avec tes informations d'application Reddit\n",
        "reddit = praw.Reddit(\n",
        "    client_id='7ex9bCwydlv4g7jXSpdf0g',           # Ton Client ID\n",
        "    client_secret='b9PphlOJQ6TbrrQyEGjq6l5faypVMA',  # Ton Secret\n",
        "    user_agent='Hoda bot',                           # Un nom pour ton bot\n",
        "    username='Interesting-Lock8736',                 # Ton nom d'utilisateur Reddit\n",
        "    password='AAAAbbbb11..'               # Ton mot de passe Reddit\n",
        ")\n"
      ],
      "metadata": {
        "id": "Hu8ONQ0tvFw5"
      },
      "execution_count": 70,
      "outputs": []
    },
    {
      "cell_type": "code",
      "source": [
        "# userdata.py\n",
        "def get_reddit_credentials():\n",
        "    return {\n",
        "        'REDDIT_CLIENT_ID': '7ex9bCwydlv4g7jXSpdf0g',\n",
        "        'REDDIT_CLIENT_SECRET': 'b9PphIOJQ6TbrrQyEGjq6l5faypVMA',\n",
        "        'REDDIT_USER_AGENT': 'Hoda bot',\n",
        "        'REDDIT_USERNAME': 'Interesting-Lock8736',\n",
        "        'REDDIT_PASSWORD': 'AAAAbbbb11..'\n",
        "    }\n"
      ],
      "metadata": {
        "id": "qY8bgblz5h_B"
      },
      "execution_count": 71,
      "outputs": []
    },
    {
      "cell_type": "code",
      "source": [
        "# Recherche des posts populaires sur AskReddit\n",
        "subreddit = reddit.subreddit(\"AskReddit\")"
      ],
      "metadata": {
        "id": "T1ONW39wyk4U"
      },
      "execution_count": 72,
      "outputs": []
    },
    {
      "cell_type": "code",
      "source": [
        "# Fonction pour récupérer les posts récents d'un subreddit\n",
        "def fetch_recent_posts(subreddit_name):\n",
        "    \"\"\"Récupère les posts récents d'un subreddit dans les dernières 24 heures.\"\"\"\n",
        "    subreddit = reddit.subreddit(subreddit_name)\n",
        "    now = datetime.utcnow()\n",
        "    one_day_ago = now - timedelta(days=1)\n",
        "    recent_posts = []\n",
        "\n",
        "    try:\n",
        "        for post in subreddit.new(limit=100):  # Récupérer les 100 derniers posts\n",
        "            post_time = datetime.utcfromtimestamp(post.created_utc)\n",
        "            if post_time > one_day_ago:\n",
        "                recent_posts.append({\n",
        "                    'title': post.title,\n",
        "                    'content': post.selftext,\n",
        "                    'score': post.score,\n",
        "                    'num_comments': post.num_comments,\n",
        "                    'created_at': post_time,\n",
        "                    'url': post.url\n",
        "                })\n",
        "            else:\n",
        "                break  # Arrête si le post est plus vieux que 24 heures\n",
        "    except Exception as e:\n",
        "        print(f\"Une erreur s'est produite : {e}\")\n",
        "\n",
        "    return recent_posts\n",
        "\n",
        "# Exemple d'utilisation : Récupérer les posts récents du subreddit 'AskReddit'\n",
        "subreddit_name = 'AskReddit'\n",
        "recent_posts = fetch_recent_posts(subreddit_name)\n",
        "\n",
        "# Affichage des posts récents\n",
        "for post in recent_posts:\n",
        "    print(f\"Title: {post['title']}, Score: {post['score']}, Comments: {post['num_comments']}, URL: {post['url']}\")\n"
      ],
      "metadata": {
        "colab": {
          "base_uri": "https://localhost:8080/"
        },
        "id": "bbuoC60R5k8F",
        "outputId": "ede6b26f-6e24-463d-adf7-5570928bdc0d"
      },
      "execution_count": 76,
      "outputs": [
        {
          "output_type": "stream",
          "name": "stderr",
          "text": [
            "WARNING:praw:It appears that you are using PRAW in an asynchronous environment.\n",
            "It is strongly recommended to use Async PRAW: https://asyncpraw.readthedocs.io.\n",
            "See https://praw.readthedocs.io/en/latest/getting_started/multiple_instances.html#discord-bots-and-asynchronous-environments for more info.\n",
            "\n"
          ]
        },
        {
          "output_type": "stream",
          "name": "stdout",
          "text": [
            "Une erreur s'est produite : received 401 HTTP response\n"
          ]
        }
      ]
    }
  ]
}